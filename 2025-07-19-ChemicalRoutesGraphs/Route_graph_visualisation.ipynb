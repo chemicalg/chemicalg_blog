{
 "cells": [
  {
   "cell_type": "markdown",
   "id": "30252ac0",
   "metadata": {},
   "source": [
    "I have recently been looking into representing chemical routes as network graph objects and specifically directed acyclic graphs (DAGs). DAGs are a well known and established mathematical object, and available in python using the [networkx package](https://networkx.org/documentation/stable/index.html). \n",
    "\n",
    "The immediate problem I run into was their visualisation. While networkx is an excellent package for graph processing, the output of Matplotlib is far from ideal.\n",
    "\n",
    "We will use the synthesis of [paracetamol as an example](https://en.wikipedia.org/wiki/Paracetamol#Chemistry), since I have done so [previously](https://chemicalg.github.io/2025/05/21/ChemicalStructuresWithBokeh.html) as well."
   ]
  },
  {
   "cell_type": "code",
   "execution_count": 41,
   "id": "a0e3c29d",
   "metadata": {},
   "outputs": [],
   "source": [
    "import numpy as np\n",
    "import pandas as pd\n",
    "import networkx as nx\n",
    "\n",
    "from rdkit import Chem\n",
    "\n",
    "import matplotlib.pyplot as plt"
   ]
  },
  {
   "cell_type": "markdown",
   "id": "a80fd0c0",
   "metadata": {},
   "source": [
    "First, let's define the route:\n",
    "\n",
    "The input file is split into input and output structures and names"
   ]
  },
  {
   "cell_type": "code",
   "execution_count": 64,
   "id": "1987f24d",
   "metadata": {},
   "outputs": [
    {
     "data": {
      "text/html": [
       "<div>\n",
       "<style scoped>\n",
       "    .dataframe tbody tr th:only-of-type {\n",
       "        vertical-align: middle;\n",
       "    }\n",
       "\n",
       "    .dataframe tbody tr th {\n",
       "        vertical-align: top;\n",
       "    }\n",
       "\n",
       "    .dataframe thead th {\n",
       "        text-align: right;\n",
       "    }\n",
       "</style>\n",
       "<table border=\"1\" class=\"dataframe\">\n",
       "  <thead>\n",
       "    <tr style=\"text-align: right;\">\n",
       "      <th></th>\n",
       "      <th>Step</th>\n",
       "      <th>Input SMILES</th>\n",
       "      <th>Output SMILES</th>\n",
       "      <th>Input Name</th>\n",
       "      <th>Output Name</th>\n",
       "    </tr>\n",
       "  </thead>\n",
       "  <tbody>\n",
       "    <tr>\n",
       "      <th>0</th>\n",
       "      <td>1</td>\n",
       "      <td>C1=CC=CC(=C1)OC</td>\n",
       "      <td>C1=C(C=CC(=C1)O[H])[N+](=O)[O-]</td>\n",
       "      <td>1'</td>\n",
       "      <td>2'</td>\n",
       "    </tr>\n",
       "    <tr>\n",
       "      <th>1</th>\n",
       "      <td>2</td>\n",
       "      <td>C1=C(C=CC(=C1)O[H])[N+](=O)[O-]</td>\n",
       "      <td>C1=C(C=CC(=C1)O[H])N([H])[H]</td>\n",
       "      <td>2'</td>\n",
       "      <td>3'</td>\n",
       "    </tr>\n",
       "    <tr>\n",
       "      <th>2</th>\n",
       "      <td>3</td>\n",
       "      <td>C1=C(C=CC(=C1)O[H])N([H])[H]</td>\n",
       "      <td>C1=C(C=CC(=C1)O[H])N([H])C(C)=O</td>\n",
       "      <td>3'</td>\n",
       "      <td>TM</td>\n",
       "    </tr>\n",
       "  </tbody>\n",
       "</table>\n",
       "</div>"
      ],
      "text/plain": [
       "   Step                     Input SMILES                    Output SMILES  \\\n",
       "0     1                  C1=CC=CC(=C1)OC  C1=C(C=CC(=C1)O[H])[N+](=O)[O-]   \n",
       "1     2  C1=C(C=CC(=C1)O[H])[N+](=O)[O-]     C1=C(C=CC(=C1)O[H])N([H])[H]   \n",
       "2     3     C1=C(C=CC(=C1)O[H])N([H])[H]  C1=C(C=CC(=C1)O[H])N([H])C(C)=O   \n",
       "\n",
       "  Input Name Output Name  \n",
       "0         1'          2'  \n",
       "1         2'          3'  \n",
       "2         3'          TM  "
      ]
     },
     "execution_count": 64,
     "metadata": {},
     "output_type": "execute_result"
    }
   ],
   "source": [
    "data = pd.read_csv('Paracetamol.csv')\n",
    "\n",
    "data"
   ]
  },
  {
   "cell_type": "markdown",
   "id": "68f7e60c",
   "metadata": {},
   "source": [
    "Great. Now let's define a function that can ingest the data and create a DAG object:"
   ]
  },
  {
   "cell_type": "code",
   "execution_count": 65,
   "id": "1763a971",
   "metadata": {},
   "outputs": [],
   "source": [
    "def RouteGraph(input_nodes, output_nodes):\n",
    "    \n",
    "    nodes_list = [pair for pair  in zip(input_nodes, output_nodes)]\n",
    "    \n",
    "    #construct the directed graph object    \n",
    "    route = nx.DiGraph()\n",
    "    route.add_edges_from(nodes_list)\n",
    "    \n",
    "    #validation\n",
    "    if nx.is_directed_acyclic_graph(route):\n",
    "        \n",
    "        return route\n",
    "    \n",
    "    else:\n",
    "        raise Exception('''\n",
    "        RouteGraphException: \n",
    "        Route to Directed Graph transformation failed. \n",
    "        Check input and output nodes.\n",
    "        ''')"
   ]
  },
  {
   "cell_type": "code",
   "execution_count": 66,
   "id": "c1d6f66f",
   "metadata": {},
   "outputs": [],
   "source": [
    "route = RouteGraph(data['Input Name'], data['Output Name'])"
   ]
  },
  {
   "cell_type": "markdown",
   "id": "0a4385e4",
   "metadata": {},
   "source": [
    "Let's attempt to visualise the route with matplotlib:"
   ]
  },
  {
   "cell_type": "code",
   "execution_count": 67,
   "id": "56d2c757",
   "metadata": {},
   "outputs": [
    {
     "data": {
      "image/png": "[encoded data removed]",
      "text/plain": [
       "<Figure size 640x480 with 1 Axes>"
      ]
     },
     "metadata": {},
     "output_type": "display_data"
    }
   ],
   "source": [
    "pos = nx.spring_layout(route, seed=3068)  # Seed layout for reproducibility\n",
    "nx.draw(route, pos=pos, with_labels=True)\n",
    "plt.show()"
   ]
  },
  {
   "cell_type": "markdown",
   "id": "497e35c6",
   "metadata": {},
   "source": [
    "As you can see the above is not a straight line, if one does not provide a seed, then the graph changes. This is far from ideal. In general chemists like chemical routes spanning left-to-right, or top-to-bottom in schemes. Over the years, I have come to prefer top-to-bottom, as you can visualise long routes on a screen by exploiting scrolling. \n",
    "\n",
    "To understand what is happening, let's explore the \"pos\" variable we have just created:"
   ]
  },
  {
   "cell_type": "code",
   "execution_count": 68,
   "id": "4609627b",
   "metadata": {},
   "outputs": [
    {
     "data": {
      "text/plain": [
       "{\"1'\": array([-0.60419769, -0.94612353]),\n",
       " \"2'\": array([-0.54791957, -0.10262254]),\n",
       " \"3'\": array([0.15211726, 0.34143461]),\n",
       " 'TM': array([1.        , 0.70731146])}"
      ]
     },
     "execution_count": 68,
     "metadata": {},
     "output_type": "execute_result"
    }
   ],
   "source": [
    "pos"
   ]
  },
  {
   "cell_type": "markdown",
   "id": "1fc4b772",
   "metadata": {},
   "source": [
    "We can see that this is a dictionary object where the key is the graph node, and the value is an array of coordinates. As such we need a way of defining those coordinates reproducibly. To do that, we need to define two functions:\n",
    "\n",
    "1. helper function that identifies starting materials (there may be multiple) and the product (there should only be one)\n",
    "2. helper function that figures the correct path from each starting material to the product \n",
    "3. helper function that assigns a \"step\" value to each intermediate - for the starting material the step should be 0 and for the product it should be the length of the longest linear sequence. For routes with multiple branches (convergent), a \"branch\" variable should also be assigned.\n",
    "4. helper visualisation function that brings the above together"
   ]
  },
  {
   "cell_type": "code",
   "execution_count": 69,
   "id": "a245a559",
   "metadata": {},
   "outputs": [],
   "source": [
    "#define function for start nodes, and end node\n",
    "def FindSMsTM(route):\n",
    "    \n",
    "    ''' \n",
    "    Function that finds the starting materials and target molecule from each give route.\n",
    "    \n",
    "    Params:\n",
    "    route: networkx DiGraph object\n",
    "    \n",
    "    Returns:\n",
    "    SMs [list]: list of nodes that are starting materials.\n",
    "    TM [list]: the target molecule as a list with 1 item. \n",
    "    \n",
    "    '''\n",
    "    \n",
    "    start_nodes = [n for n, d in route.in_degree() if d == 0]\n",
    "    end_node = [n for n, d in route.out_degree() if d == 0]\n",
    "    \n",
    "    return start_nodes, end_node\n",
    "\n",
    "#define function to deconvolute route branches\n",
    "def ValidBranches(route):\n",
    "    \n",
    "    '''\n",
    "    Function to figure out the individual branches in each route.\n",
    "    This is necessary because sometimes but not never, there may be a divergent node in a route.\n",
    "    \n",
    "    Params:\n",
    "    route: networkx DiGraph object\n",
    "    \n",
    "    Returns:\n",
    "    valid_branches [list]: nested list of branches with nodes for each branch as a list. \n",
    "    \n",
    "    '''\n",
    "    \n",
    "    start_nodes, end_node = FindSMsTM(route)\n",
    "\n",
    "    valid_branches = []\n",
    "\n",
    "    for node in start_nodes:\n",
    "        branches = nx.all_simple_paths(route, node, end_node)\n",
    "        selected_branch = max(list(branches), key=len)\n",
    "        valid_branches.append(selected_branch)\n",
    "        \n",
    "    return start_nodes, end_node, valid_branches\n",
    "\n",
    "#define function to assign step number\n",
    "def StepAssignment(route):\n",
    "    \n",
    "    '''\n",
    "    Function to assign step number to each intermediate for visualisaton. \n",
    "    Modifies route (DiGraph) object in place. Adds branch number, layer number\n",
    "    step number and whether a mocelule is a starting material, intermediate,\n",
    "    or target molecule.\n",
    "\n",
    "    Params:\n",
    "    route: networkx DiGraph object\n",
    "        \n",
    "    Returns:\n",
    "    None\n",
    "    \n",
    "    '''\n",
    "   \n",
    "    start_nodes, end_node, valid_branches = ValidBranches(route)\n",
    "    \n",
    "    LLS_len = nx.dag_longest_path_length(route)\n",
    "    \n",
    "    for node in route.nodes:\n",
    "        for branch in valid_branches:\n",
    "            branch_number = valid_branches.index(branch) + 1\n",
    "            branch_len = len(branch)\n",
    "            if node in branch:\n",
    "                if node == end_node[0]:\n",
    "                    route.nodes[node][\"branch\"] = 1\n",
    "                    route.nodes[node][\"step\"] = 0\n",
    "                    \n",
    "                else:\n",
    "                    if route.nodes[node].get(\"branch\") == None:\n",
    "                        route.nodes[node][\"branch\"] = branch_number\n",
    "                        \n",
    "                    step = branch_len - branch.index(node)\n",
    "                    route.nodes[node][\"step\"] = step\n",
    "                    \n",
    "                if node == end_node[0]:\n",
    "                    route.nodes[node][\"Role\"] = 'Target Molecule'\n",
    "                    \n",
    "                elif node in start_nodes:\n",
    "                    route.nodes[node][\"Role\"] = 'Starting Material'\n",
    "                    \n",
    "                else:\n",
    "                    route.nodes[node][\"Role\"] = 'Intermediate'          \n",
    "    \n",
    "    return None\n",
    "\n",
    "#define function to visualist route\n",
    "def RouteGraphFig(route):\n",
    "\n",
    "    '''\n",
    "    Function to figure out the individual branches in each route.\n",
    "    \n",
    "    Params:\n",
    "    route: networkx DiGraph object\n",
    "    \n",
    "    Returns:\n",
    "    fig, ax: matplotlib objects\n",
    "    \n",
    "    '''\n",
    "    \n",
    "    StepAssignment(route) # assign the steps\n",
    "\n",
    "    pos = {node: (route.nodes[node][\"branch\"],\n",
    "                  route.nodes[node][\"step\"]) \n",
    "              for node in route.nodes}\n",
    "\n",
    "    fig, ax = plt.subplots(figsize=(len(pos),len(pos)*2))\n",
    "    nx.draw_networkx(route, pos=pos, ax=ax, arrows=True, node_shape = \"s\", node_color = \"white\")\n",
    "    ax.set_title(\"Route Graph\")\n",
    "    fig.tight_layout()\n",
    "\n",
    "    return fig, ax"
   ]
  },
  {
   "cell_type": "markdown",
   "id": "cbca59a4",
   "metadata": {},
   "source": [
    "Now let's use them:"
   ]
  },
  {
   "cell_type": "code",
   "execution_count": 70,
   "id": "66f7005e",
   "metadata": {},
   "outputs": [
    {
     "data": {
      "text/plain": [
       "['TM']"
      ]
     },
     "execution_count": 70,
     "metadata": {},
     "output_type": "execute_result"
    }
   ],
   "source": [
    "sm, tm = FindSMsTM(route)\n",
    "\n",
    "tm # make sure there is only one end node (target mol)"
   ]
  },
  {
   "cell_type": "code",
   "execution_count": 71,
   "id": "04e750d9",
   "metadata": {},
   "outputs": [
    {
     "data": {
      "image/png": "[encoded data removed]",
      "text/plain": [
       "<Figure size 400x800 with 1 Axes>"
      ]
     },
     "metadata": {},
     "output_type": "display_data"
    }
   ],
   "source": [
    "fig, ax = RouteGraphFig(route)\n",
    "\n",
    "plt.show()"
   ]
  },
  {
   "cell_type": "markdown",
   "id": "6275b207",
   "metadata": {},
   "source": [
    "Isn't this lovely ?!\n",
    "\n",
    "What's more is that we can change the RouteGraphFig function to give a left-to-right visualisation by just passing the \"branch\" and \"step\" variables in different order to the \"pos\" dictionary comprehension:"
   ]
  },
  {
   "cell_type": "code",
   "execution_count": 72,
   "id": "089122ef",
   "metadata": {},
   "outputs": [],
   "source": [
    "def RouteGraphFigLR(route):\n",
    "\n",
    "    '''\n",
    "    Function to figure out the individual branches in each route.\n",
    "    \n",
    "    Params:\n",
    "    route: networkx DiGraph object\n",
    "    \n",
    "    Returns:\n",
    "    fig, ax: matplotlib objects\n",
    "    \n",
    "    '''\n",
    "    \n",
    "    StepAssignment(route) # assign the steps\n",
    "\n",
    "    pos = {node: (route.nodes[node][\"step\"],\n",
    "                  route.nodes[node][\"branch\"]) \n",
    "              for node in route.nodes}\n",
    "\n",
    "    fig, ax = plt.subplots(figsize=(len(pos)*2,len(pos)))\n",
    "    nx.draw_networkx(route, pos=pos, ax=ax, arrows=True, node_shape = \"s\", node_color = \"white\")\n",
    "    ax.set_title(\"Route Graph\")\n",
    "    fig.tight_layout()\n",
    "\n",
    "    return fig, ax"
   ]
  },
  {
   "cell_type": "code",
   "execution_count": 73,
   "id": "734b32d1",
   "metadata": {},
   "outputs": [
    {
     "data": {
      "image/png": "[encoded data removed]",
      "text/plain": [
       "<Figure size 800x400 with 1 Axes>"
      ]
     },
     "metadata": {},
     "output_type": "display_data"
    }
   ],
   "source": [
    "fig, ax = RouteGraphFigLR(route)\n",
    "\n",
    "plt.show()"
   ]
  },
  {
   "cell_type": "markdown",
   "id": "77158ccd",
   "metadata": {},
   "source": [
    " ... or so I thought ...\n",
    " \n",
    " In this case we can add a \"layer\" variable in the StepAssignment function as follows:"
   ]
  },
  {
   "cell_type": "code",
   "execution_count": 74,
   "id": "ff89d32c",
   "metadata": {},
   "outputs": [],
   "source": [
    "def StepAssignment(route):\n",
    "    \n",
    "    '''\n",
    "    Function to assign step number to each intermediate for visualisaton. \n",
    "    Modifies route (DiGraph) object in place. Adds branch number, layer number\n",
    "    step number and whether a mocelule is a starting material, intermediate,\n",
    "    or target molecule.\n",
    "\n",
    "    Params:\n",
    "    route: networkx DiGraph object\n",
    "        \n",
    "    Returns:\n",
    "    None\n",
    "    \n",
    "    '''\n",
    "   \n",
    "    start_nodes, end_node, valid_branches = ValidBranches(route)\n",
    "    \n",
    "    LLS_len = nx.dag_longest_path_length(route)\n",
    "    \n",
    "    for node in route.nodes:\n",
    "        for branch in valid_branches:\n",
    "            branch_number = valid_branches.index(branch) + 1\n",
    "            branch_len = len(branch)\n",
    "            if node in branch:\n",
    "                if node == end_node[0]:\n",
    "                    route.nodes[node][\"branch\"] = 1\n",
    "                    route.nodes[node][\"layer\"] = LLS_len\n",
    "                    route.nodes[node][\"step\"] = 0\n",
    "                    \n",
    "                else:\n",
    "                    if route.nodes[node].get(\"branch\") == None:\n",
    "                        route.nodes[node][\"branch\"] = branch_number\n",
    "                        \n",
    "                    layer = LLS_len - branch_len + branch.index(node) + 1 \n",
    "                    route.nodes[node][\"layer\"] = layer\n",
    "                    step = branch_len - branch.index(node)\n",
    "                    route.nodes[node][\"step\"] = step\n",
    "                    \n",
    "                if node == end_node[0]:\n",
    "                    route.nodes[node][\"Role\"] = 'Target Molecule'\n",
    "                    \n",
    "                elif node in start_nodes:\n",
    "                    route.nodes[node][\"Role\"] = 'Starting Material'\n",
    "                    \n",
    "                else:\n",
    "                    route.nodes[node][\"Role\"] = 'Intermediate'          \n",
    "    \n",
    "    return None"
   ]
  },
  {
   "cell_type": "markdown",
   "id": "96a5df52",
   "metadata": {},
   "source": [
    "and change the RouteGraphFigLR to use the \"layer\" variable:"
   ]
  },
  {
   "cell_type": "code",
   "execution_count": 75,
   "id": "62f9e3b3",
   "metadata": {},
   "outputs": [],
   "source": [
    "def RouteGraphFigLR(route):\n",
    "\n",
    "    '''\n",
    "    Function to figure out the individual branches in each route.\n",
    "    \n",
    "    Params:\n",
    "    route: networkx DiGraph object\n",
    "    \n",
    "    Returns:\n",
    "    fig, ax: matplotlib objects\n",
    "    \n",
    "    '''\n",
    "    \n",
    "    StepAssignment(route) # assign the steps\n",
    "\n",
    "    pos = {node: (route.nodes[node][\"layer\"], ### <---- This is the change here!!!\n",
    "                  route.nodes[node][\"branch\"]) \n",
    "              for node in route.nodes}\n",
    "\n",
    "    fig, ax = plt.subplots(figsize=(len(pos)*2,len(pos)))\n",
    "    nx.draw_networkx(route, pos=pos, ax=ax, arrows=True, node_shape = \"s\", node_color = \"white\")\n",
    "    ax.set_title(\"Route Graph\")\n",
    "    fig.tight_layout()\n",
    "\n",
    "    return fig, ax"
   ]
  },
  {
   "cell_type": "markdown",
   "id": "c9516dbd",
   "metadata": {},
   "source": [
    "So now if we put the two together:"
   ]
  },
  {
   "cell_type": "code",
   "execution_count": 76,
   "id": "123ecaf6",
   "metadata": {},
   "outputs": [
    {
     "data": {
      "image/png": "[encoded data removed]",
      "text/plain": [
       "<Figure size 800x400 with 1 Axes>"
      ]
     },
     "metadata": {},
     "output_type": "display_data"
    }
   ],
   "source": [
    "fig, ax = RouteGraphFigLR(route)\n",
    "\n",
    "plt.show()"
   ]
  },
  {
   "cell_type": "markdown",
   "id": "96feb080",
   "metadata": {},
   "source": [
    "There we go! \n",
    "\n",
    "In reality I would prefer the nodes to have the chemical structure. Let's see how we can do that."
   ]
  },
  {
   "cell_type": "markdown",
   "id": "dd592bf5",
   "metadata": {},
   "source": [
    "First, let's define a function to construct a dataframe from the DAG:"
   ]
  },
  {
   "cell_type": "code",
   "execution_count": 77,
   "id": "b034fc94",
   "metadata": {},
   "outputs": [],
   "source": [
    "def RouteDataFrame(route, route_data):\n",
    "    \n",
    "    start_nodes, end_node = FindSMsTM(route)\n",
    "    \n",
    "    inputs = route_data[['Input Name', 'Input SMILES']\n",
    "                 ].loc[route_data['Input Name'].isin(list(route.nodes))\n",
    "                      ].drop_duplicates('Input Name')\n",
    "    \n",
    "    outputs = route_data[['Output Name','Output SMILES']\n",
    "                  ].loc[route_data['Output Name'].isin(end_node)]\n",
    "    \n",
    "    route_df = pd.DataFrame(np.concatenate((inputs.values, outputs.values)), columns = ['Compound', 'SMILES'])\n",
    "    \n",
    "    route_df['Step'] = [route.nodes[node]['step'] for node in route_df['Compound']]\n",
    "    route_df['Role'] = [route.nodes[node]['Role'] for node in route_df['Compound']]\n",
    "    \n",
    "    return route_df"
   ]
  },
  {
   "cell_type": "markdown",
   "id": "a36690b9",
   "metadata": {},
   "source": [
    "This route dataframe can hold multiple other information, for example physical properties"
   ]
  },
  {
   "cell_type": "code",
   "execution_count": 78,
   "id": "ee496b3b",
   "metadata": {},
   "outputs": [],
   "source": [
    "route_df = RouteDataFrame(route, data)"
   ]
  },
  {
   "cell_type": "code",
   "execution_count": 79,
   "id": "b8e8bd80",
   "metadata": {},
   "outputs": [
    {
     "data": {
      "text/html": [
       "<div>\n",
       "<style scoped>\n",
       "    .dataframe tbody tr th:only-of-type {\n",
       "        vertical-align: middle;\n",
       "    }\n",
       "\n",
       "    .dataframe tbody tr th {\n",
       "        vertical-align: top;\n",
       "    }\n",
       "\n",
       "    .dataframe thead th {\n",
       "        text-align: right;\n",
       "    }\n",
       "</style>\n",
       "<table border=\"1\" class=\"dataframe\">\n",
       "  <thead>\n",
       "    <tr style=\"text-align: right;\">\n",
       "      <th></th>\n",
       "      <th>Compound</th>\n",
       "      <th>SMILES</th>\n",
       "      <th>Step</th>\n",
       "      <th>Role</th>\n",
       "    </tr>\n",
       "  </thead>\n",
       "  <tbody>\n",
       "    <tr>\n",
       "      <th>0</th>\n",
       "      <td>1'</td>\n",
       "      <td>C1=CC=CC(=C1)OC</td>\n",
       "      <td>4</td>\n",
       "      <td>Starting Material</td>\n",
       "    </tr>\n",
       "    <tr>\n",
       "      <th>1</th>\n",
       "      <td>2'</td>\n",
       "      <td>C1=C(C=CC(=C1)O[H])[N+](=O)[O-]</td>\n",
       "      <td>3</td>\n",
       "      <td>Intermediate</td>\n",
       "    </tr>\n",
       "    <tr>\n",
       "      <th>2</th>\n",
       "      <td>3'</td>\n",
       "      <td>C1=C(C=CC(=C1)O[H])N([H])[H]</td>\n",
       "      <td>2</td>\n",
       "      <td>Intermediate</td>\n",
       "    </tr>\n",
       "    <tr>\n",
       "      <th>3</th>\n",
       "      <td>TM</td>\n",
       "      <td>C1=C(C=CC(=C1)O[H])N([H])C(C)=O</td>\n",
       "      <td>0</td>\n",
       "      <td>Target Molecule</td>\n",
       "    </tr>\n",
       "  </tbody>\n",
       "</table>\n",
       "</div>"
      ],
      "text/plain": [
       "  Compound                           SMILES  Step               Role\n",
       "0       1'                  C1=CC=CC(=C1)OC     4  Starting Material\n",
       "1       2'  C1=C(C=CC(=C1)O[H])[N+](=O)[O-]     3       Intermediate\n",
       "2       3'     C1=C(C=CC(=C1)O[H])N([H])[H]     2       Intermediate\n",
       "3       TM  C1=C(C=CC(=C1)O[H])N([H])C(C)=O     0    Target Molecule"
      ]
     },
     "execution_count": 79,
     "metadata": {},
     "output_type": "execute_result"
    }
   ],
   "source": [
    "route_df"
   ]
  },
  {
   "cell_type": "markdown",
   "id": "c01c2299",
   "metadata": {},
   "source": [
    "Now let's define a function that can ingest the dataframe and the graph and produce the visualisation: "
   ]
  },
  {
   "cell_type": "code",
   "execution_count": 82,
   "id": "bbf0e2fe",
   "metadata": {},
   "outputs": [],
   "source": [
    "def RouteGraphWithStructures(route, route_df):\n",
    "    StepAssignment(route) # assign the steps\n",
    "\n",
    "    pos = {node: (route.nodes[node][\"branch\"],\n",
    "                  route.nodes[node][\"step\"]) \n",
    "              for node in route.nodes}\n",
    "    \n",
    "    mols_l = [Chem.MolFromSmiles(smi) for smi in route_df['SMILES']]\n",
    "    \n",
    "    imgs_l = [Chem.Draw.MolToImage(mol) for mol in mols_l]\n",
    "    \n",
    "    fig, ax = plt.subplots(figsize=(len(pos),len(pos)*2))\n",
    "    nx.draw_networkx(route, pos=pos, ax=ax, arrows=True, node_shape = \"s\", node_color = \"white\")\n",
    "\n",
    "    ax=plt.gca()\n",
    "    fig=plt.gcf()\n",
    "\n",
    "    # Transform from data coordinates (scaled between xlim and ylim) to display coordinates\n",
    "    trans = ax.transData.transform\n",
    "    # Transform from display to figure coordinates\n",
    "    trans2 = fig.transFigure.inverted().transform\n",
    "\n",
    "    imsize = 0.15 # this is the image size\n",
    "\n",
    "    # Add the respective image to each node\n",
    "    for node, image in zip(route_df['Compound'], imgs_l):\n",
    "        route.nodes[node]['image'] = image\n",
    "        (x,y) = pos[node]\n",
    "        xx,yy = trans((x,y)) # figure coordinates\n",
    "        xa,ya = trans2((xx,yy)) # axes coordinates\n",
    "        a = plt.axes([xa-imsize/2.0,ya-imsize/2.0, imsize, imsize])\n",
    "\n",
    "\n",
    "        a.imshow(route.nodes[node]['image'])\n",
    "        a.set_aspect('equal')\n",
    "        a.axis(\"off\")\n",
    "\n",
    "    ax.set_title(\"Route Graph\")\n",
    "    #fig.tight_layout()\n",
    "    \n",
    "    return fig, ax   "
   ]
  },
  {
   "cell_type": "code",
   "execution_count": 83,
   "id": "0dd057f9",
   "metadata": {},
   "outputs": [
    {
     "data": {
      "image/png": "[encoded data removed]",
      "text/plain": [
       "<Figure size 400x800 with 5 Axes>"
      ]
     },
     "metadata": {},
     "output_type": "display_data"
    }
   ],
   "source": [
    "fig, ax = RouteGraphWithStructures(route, route_df)"
   ]
  },
  {
   "cell_type": "markdown",
   "id": "fca016e6",
   "metadata": {},
   "source": [
    "This is great. The synthesis of paracetamol is very simple as an example. It would be great to see this code applied to more complex and longer routes. \n",
    "\n",
    "Let me know if you find this useful."
   ]
  }
 ],
 "metadata": {
  "kernelspec": {
   "display_name": "LhasaBase",
   "language": "python",
   "name": "lhasabase"
  },
  "language_info": {
   "codemirror_mode": {
    "name": "ipython",
    "version": 3
   },
   "file_extension": ".py",
   "mimetype": "text/x-python",
   "name": "python",
   "nbconvert_exporter": "python",
   "pygments_lexer": "ipython3",
   "version": "3.12.3"
  }
 },
 "nbformat": 4,
 "nbformat_minor": 5
}
